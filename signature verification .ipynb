{
 "cells": [
  {
   "cell_type": "code",
   "execution_count": 1,
   "metadata": {
    "collapsed": true
   },
   "outputs": [],
   "source": [
    "import pandas as pd\n",
    "import numpy as np\n",
    "import skimage.io as sk\n",
    "from skimage import img_as_ubyte\n",
    "from skimage.io import imread\n",
    "from scipy import spatial\n",
    "from tensorflow.keras.layers import Dense, Flatten, Input, Lambda, MaxPooling2D, Conv2D, Dropout, BatchNormalization\n",
    "from tensorflow.keras.models import Model\n",
    "from tensorflow.keras.applications.resnet50 import ResNet50\n",
    "from tensorflow.keras.preprocessing import image\n",
    "from tensorflow.keras.preprocessing.image import ImageDataGenerator, load_img\n",
    "from keras.models import Sequential\n",
    "from glob import glob\n",
    "from PIL import Image\n",
    "import cv2\n",
    "import matplotlib.pyplot as plt"
   ]
  },
  {
   "cell_type": "markdown",
   "metadata": {
    "collapsed": true
   },
   "source": [
    "# Data Pre-Processing & Model Building"
   ]
  },
  {
   "cell_type": "code",
   "execution_count": 2,
   "metadata": {
    "collapsed": true
   },
   "outputs": [],
   "source": [
    "train_path = 'D:\\\\2021-2022 BE PROJECT\\\\singnature verification\\\\Real-Forge-Signature-Detection-main\\\\Dataset_Signature_Final\\\\Dataset\\dataset1\\\\train'\n",
    "test_path = 'D:\\\\2021-2022 BE PROJECT\\\\singnature verification\\\\Real-Forge-Signature-Detection-main\\\\Dataset_Signature_Final\\\\Dataset\\\\dataset1\\\\test'"
   ]
  },
  {
   "cell_type": "code",
   "execution_count": 3,
   "metadata": {
    "collapsed": true
   },
   "outputs": [],
   "source": [
    "Image_Width = 512\n",
    "Image_Height = 512\n",
    "Image_Size = (Image_Width, Image_Height)\n",
    "Image_Channel = 3\n",
    "batch_size=15"
   ]
  },
  {
   "cell_type": "code",
   "execution_count": 4,
   "metadata": {
    "collapsed": true
   },
   "outputs": [],
   "source": [
    "model = Sequential()\n",
    "\n",
    "## Conv layer 1\n",
    "model.add(Conv2D(32, (3,3), activation='relu', input_shape=(Image_Width,Image_Height, Image_Channel)))\n",
    "model.add(BatchNormalization())\n",
    "model.add(MaxPooling2D(pool_size=(2,2)))\n",
    "model.add(Dropout(0.25))\n",
    "\n",
    "## Conv layer 2\n",
    "model.add(Conv2D(64, (3,3), activation='relu'))\n",
    "model.add(BatchNormalization())\n",
    "model.add(MaxPooling2D(pool_size=(2,2)))\n",
    "model.add(Dropout(0.25))\n",
    "\n",
    "## Conv layer 3\n",
    "model.add(Conv2D(128, (3,3), activation='relu'))\n",
    "model.add(BatchNormalization())\n",
    "model.add(MaxPooling2D(pool_size=(2,2)))\n",
    "model.add(Dropout(0.25))\n",
    "\n",
    "## Conv layer 4\n",
    "model.add(Conv2D(256, (3,3), activation='relu'))\n",
    "model.add(BatchNormalization())\n",
    "model.add(MaxPooling2D(pool_size=(2,2)))\n",
    "model.add(Dropout(0.25))\n",
    "\n",
    "## Conv layer 5\n",
    "model.add(Conv2D(256, (3,3), activation='relu'))\n",
    "model.add(BatchNormalization())\n",
    "model.add(MaxPooling2D(pool_size=(2,2)))\n",
    "model.add(Dropout(0.25))\n",
    "\n",
    "## Conv layer 6\n",
    "model.add(Conv2D(512, (3,3), activation='relu'))\n",
    "model.add(BatchNormalization())\n",
    "model.add(MaxPooling2D(pool_size=(2,2)))\n",
    "model.add(Dropout(0.25))\n",
    "\n",
    "model.add(Flatten())\n",
    "model.add(Dense(256,activation='relu'))\n",
    "model.add(BatchNormalization())\n",
    "model.add(Dropout(0.5))\n",
    "\n",
    "model.add(Dense(2, activation='softmax'))\n",
    "\n",
    "model.compile(loss='categorical_crossentropy', optimizer='adam', metrics=['accuracy'])"
   ]
  },
  {
   "cell_type": "code",
   "execution_count": 5,
   "metadata": {},
   "outputs": [
    {
     "name": "stdout",
     "output_type": "stream",
     "text": [
      "Model: \"sequential\"\n",
      "_________________________________________________________________\n",
      "Layer (type)                 Output Shape              Param #   \n",
      "=================================================================\n",
      "conv2d (Conv2D)              (None, 510, 510, 32)      896       \n",
      "_________________________________________________________________\n",
      "batch_normalization (BatchNo (None, 510, 510, 32)      128       \n",
      "_________________________________________________________________\n",
      "max_pooling2d (MaxPooling2D) (None, 255, 255, 32)      0         \n",
      "_________________________________________________________________\n",
      "dropout (Dropout)            (None, 255, 255, 32)      0         \n",
      "_________________________________________________________________\n",
      "conv2d_1 (Conv2D)            (None, 253, 253, 64)      18496     \n",
      "_________________________________________________________________\n",
      "batch_normalization_1 (Batch (None, 253, 253, 64)      256       \n",
      "_________________________________________________________________\n",
      "max_pooling2d_1 (MaxPooling2 (None, 126, 126, 64)      0         \n",
      "_________________________________________________________________\n",
      "dropout_1 (Dropout)          (None, 126, 126, 64)      0         \n",
      "_________________________________________________________________\n",
      "conv2d_2 (Conv2D)            (None, 124, 124, 128)     73856     \n",
      "_________________________________________________________________\n",
      "batch_normalization_2 (Batch (None, 124, 124, 128)     512       \n",
      "_________________________________________________________________\n",
      "max_pooling2d_2 (MaxPooling2 (None, 62, 62, 128)       0         \n",
      "_________________________________________________________________\n",
      "dropout_2 (Dropout)          (None, 62, 62, 128)       0         \n",
      "_________________________________________________________________\n",
      "conv2d_3 (Conv2D)            (None, 60, 60, 256)       295168    \n",
      "_________________________________________________________________\n",
      "batch_normalization_3 (Batch (None, 60, 60, 256)       1024      \n",
      "_________________________________________________________________\n",
      "max_pooling2d_3 (MaxPooling2 (None, 30, 30, 256)       0         \n",
      "_________________________________________________________________\n",
      "dropout_3 (Dropout)          (None, 30, 30, 256)       0         \n",
      "_________________________________________________________________\n",
      "conv2d_4 (Conv2D)            (None, 28, 28, 256)       590080    \n",
      "_________________________________________________________________\n",
      "batch_normalization_4 (Batch (None, 28, 28, 256)       1024      \n",
      "_________________________________________________________________\n",
      "max_pooling2d_4 (MaxPooling2 (None, 14, 14, 256)       0         \n",
      "_________________________________________________________________\n",
      "dropout_4 (Dropout)          (None, 14, 14, 256)       0         \n",
      "_________________________________________________________________\n",
      "conv2d_5 (Conv2D)            (None, 12, 12, 512)       1180160   \n",
      "_________________________________________________________________\n",
      "batch_normalization_5 (Batch (None, 12, 12, 512)       2048      \n",
      "_________________________________________________________________\n",
      "max_pooling2d_5 (MaxPooling2 (None, 6, 6, 512)         0         \n",
      "_________________________________________________________________\n",
      "dropout_5 (Dropout)          (None, 6, 6, 512)         0         \n",
      "_________________________________________________________________\n",
      "flatten (Flatten)            (None, 18432)             0         \n",
      "_________________________________________________________________\n",
      "dense (Dense)                (None, 256)               4718848   \n",
      "_________________________________________________________________\n",
      "batch_normalization_6 (Batch (None, 256)               1024      \n",
      "_________________________________________________________________\n",
      "dropout_6 (Dropout)          (None, 256)               0         \n",
      "_________________________________________________________________\n",
      "dense_1 (Dense)              (None, 2)                 514       \n",
      "=================================================================\n",
      "Total params: 6,884,034\n",
      "Trainable params: 6,881,026\n",
      "Non-trainable params: 3,008\n",
      "_________________________________________________________________\n"
     ]
    }
   ],
   "source": [
    "model.summary()"
   ]
  },
  {
   "cell_type": "markdown",
   "metadata": {},
   "source": [
    "# What are callbacks?\n",
    "Callbacks is a powerfull tool which is used to customize the behaviour of keras or tensorflow model during training, evaluaton or inference"
   ]
  },
  {
   "cell_type": "code",
   "execution_count": 6,
   "metadata": {
    "collapsed": true
   },
   "outputs": [],
   "source": [
    "from keras.callbacks import EarlyStopping, ReduceLROnPlateau\n",
    "\n",
    "early_stop = EarlyStopping(patience=10)\n",
    "learning_rate_reduction = ReduceLROnPlateau(monitor='val_acc', patience=2, verbose=1, factor=0.5, min_lr=0.00001)\n",
    "callbacks = [early_stop, learning_rate_reduction]"
   ]
  },
  {
   "cell_type": "markdown",
   "metadata": {},
   "source": [
    "# Data Pre-processing\n",
    "Now we need to read all the images from the folder.\n",
    "When we'll be reading the data from the folders we also need to make sure that we need to do some Data Augmentation.\n",
    "The Data Augmentation can be done by using ImageDataGenerator library.\n",
    "The ImageDataGenerator what is does that it applies the Data Augmentation techniques like zooming, scaling, horizontal flipping, vertical flipping, etc.\n",
    "IN THE TEST DATA WE SHOULD NEVER PERFORM DATA AUGMENTATION WE SHOULD ONLY PERFORM SCALING."
   ]
  },
  {
   "cell_type": "code",
   "execution_count": 7,
   "metadata": {
    "collapsed": true
   },
   "outputs": [],
   "source": [
    "# Scaling all the images between 0 to 1 and applying Data Augmentation\n",
    "\n",
    "train_datagen = ImageDataGenerator(rotation_range=15,\n",
    "                                  rescale=1./255,\n",
    "                                  shear_range=0.1,\n",
    "                                  zoom_range=0.2,\n",
    "                                  horizontal_flip=True,\n",
    "                                  width_shift_range=0.1,\n",
    "                                  height_shift_range=0.1,)"
   ]
  },
  {
   "cell_type": "code",
   "execution_count": 8,
   "metadata": {},
   "outputs": [
    {
     "name": "stdout",
     "output_type": "stream",
     "text": [
      "Found 120 images belonging to 2 classes.\n"
     ]
    }
   ],
   "source": [
    "train_generator = train_datagen.flow_from_directory('D:\\\\2021-2022 BE PROJECT\\\\singnature verification\\\\Real-Forge-Signature-Detection-main\\\\Dataset_Signature_Final\\\\Dataset\\dataset1\\\\train',\n",
    "                                              target_size=Image_Size,\n",
    "                                              batch_size=32,\n",
    "                                              class_mode = 'categorical')\n"
   ]
  },
  {
   "cell_type": "code",
   "execution_count": 9,
   "metadata": {
    "collapsed": true
   },
   "outputs": [],
   "source": [
    "# Performing only scaling on the test dataset\n",
    "\n",
    "test_datagen = ImageDataGenerator(rescale=1./255)"
   ]
  },
  {
   "cell_type": "code",
   "execution_count": 10,
   "metadata": {},
   "outputs": [
    {
     "name": "stdout",
     "output_type": "stream",
     "text": [
      "Found 120 images belonging to 2 classes.\n"
     ]
    }
   ],
   "source": [
    "test_generator = test_datagen.flow_from_directory('D:\\\\2021-2022 BE PROJECT\\\\singnature verification\\\\Real-Forge-Signature-Detection-main\\\\Dataset_Signature_Final\\\\Dataset\\\\dataset1\\\\test',\n",
    "                                                  target_size=Image_Size,\n",
    "                                                  batch_size = 32,\n",
    "                                                  class_mode='categorical')"
   ]
  },
  {
   "cell_type": "code",
   "execution_count": null,
   "metadata": {},
   "outputs": [
    {
     "name": "stdout",
     "output_type": "stream",
     "text": [
      "WARNING:tensorflow:From <ipython-input-11-ac7437b1d167>:8: Model.fit_generator (from tensorflow.python.keras.engine.training) is deprecated and will be removed in a future version.\n",
      "Instructions for updating:\n",
      "Please use Model.fit, which supports generators.\n",
      "Epoch 1/10\n",
      "4/4 [==============================] - ETA: 0s - loss: 1.7335 - accuracy: 0.5250 WARNING:tensorflow:Reduce LR on plateau conditioned on metric `val_acc` which is not available. Available metrics are: loss,accuracy,val_loss,val_accuracy,lr\n",
      "4/4 [==============================] - 330s 82s/step - loss: 1.7335 - accuracy: 0.5250 - val_loss: 0.8059 - val_accuracy: 0.5000 - lr: 0.0010\n",
      "Epoch 2/10\n",
      "4/4 [==============================] - ETA: 0s - loss: 1.1614 - accuracy: 0.6000 WARNING:tensorflow:Reduce LR on plateau conditioned on metric `val_acc` which is not available. Available metrics are: loss,accuracy,val_loss,val_accuracy,lr\n",
      "4/4 [==============================] - 306s 77s/step - loss: 1.1614 - accuracy: 0.6000 - val_loss: 0.9101 - val_accuracy: 0.5000 - lr: 0.0010\n",
      "Epoch 3/10\n",
      "4/4 [==============================] - ETA: 0s - loss: 0.9723 - accuracy: 0.6250 WARNING:tensorflow:Reduce LR on plateau conditioned on metric `val_acc` which is not available. Available metrics are: loss,accuracy,val_loss,val_accuracy,lr\n",
      "4/4 [==============================] - 301s 75s/step - loss: 0.9723 - accuracy: 0.6250 - val_loss: 0.9342 - val_accuracy: 0.5000 - lr: 0.0010\n",
      "Epoch 4/10\n",
      "4/4 [==============================] - ETA: 0s - loss: 1.1660 - accuracy: 0.5833  WARNING:tensorflow:Reduce LR on plateau conditioned on metric `val_acc` which is not available. Available metrics are: loss,accuracy,val_loss,val_accuracy,lr\n",
      "4/4 [==============================] - 327s 82s/step - loss: 1.1660 - accuracy: 0.5833 - val_loss: 1.3454 - val_accuracy: 0.5000 - lr: 0.0010\n",
      "Epoch 5/10\n",
      "4/4 [==============================] - ETA: 0s - loss: 0.9366 - accuracy: 0.6250 WARNING:tensorflow:Reduce LR on plateau conditioned on metric `val_acc` which is not available. Available metrics are: loss,accuracy,val_loss,val_accuracy,lr\n",
      "4/4 [==============================] - 299s 75s/step - loss: 0.9366 - accuracy: 0.6250 - val_loss: 2.0368 - val_accuracy: 0.5000 - lr: 0.0010\n",
      "Epoch 6/10\n",
      "4/4 [==============================] - ETA: 0s - loss: 0.9074 - accuracy: 0.6500 WARNING:tensorflow:Reduce LR on plateau conditioned on metric `val_acc` which is not available. Available metrics are: loss,accuracy,val_loss,val_accuracy,lr\n",
      "4/4 [==============================] - 305s 76s/step - loss: 0.9074 - accuracy: 0.6500 - val_loss: 2.6111 - val_accuracy: 0.5000 - lr: 0.0010\n",
      "Epoch 7/10\n",
      "4/4 [==============================] - ETA: 0s - loss: 0.8510 - accuracy: 0.6333 WARNING:tensorflow:Reduce LR on plateau conditioned on metric `val_acc` which is not available. Available metrics are: loss,accuracy,val_loss,val_accuracy,lr\n",
      "4/4 [==============================] - 311s 78s/step - loss: 0.8510 - accuracy: 0.6333 - val_loss: 2.9322 - val_accuracy: 0.5000 - lr: 0.0010\n",
      "Epoch 8/10\n",
      "4/4 [==============================] - ETA: 0s - loss: 0.8585 - accuracy: 0.6667 WARNING:tensorflow:Reduce LR on plateau conditioned on metric `val_acc` which is not available. Available metrics are: loss,accuracy,val_loss,val_accuracy,lr\n",
      "4/4 [==============================] - 301s 75s/step - loss: 0.8585 - accuracy: 0.6667 - val_loss: 3.1348 - val_accuracy: 0.5000 - lr: 0.0010\n",
      "Epoch 9/10\n",
      "4/4 [==============================] - ETA: 0s - loss: 0.8325 - accuracy: 0.6083 WARNING:tensorflow:Reduce LR on plateau conditioned on metric `val_acc` which is not available. Available metrics are: loss,accuracy,val_loss,val_accuracy,lr\n",
      "4/4 [==============================] - 294s 73s/step - loss: 0.8325 - accuracy: 0.6083 - val_loss: 3.0216 - val_accuracy: 0.5000 - lr: 0.0010\n",
      "Epoch 10/10\n",
      "4/4 [==============================] - ETA: 0s - loss: 0.8515 - accuracy: 0.6333 WARNING:tensorflow:Reduce LR on plateau conditioned on metric `val_acc` which is not available. Available metrics are: loss,accuracy,val_loss,val_accuracy,lr\n",
      "4/4 [==============================] - 1811s 453s/step - loss: 0.8515 - accuracy: 0.6333 - val_loss: 2.4868 - val_accuracy: 0.5000 - lr: 0.0010\n"
     ]
    }
   ],
   "source": [
    "epochs = 10\n",
    "\n",
    "history = model.fit_generator(train_generator,\n",
    "                             epochs=epochs,\n",
    "                             validation_data=test_generator,\n",
    "                             validation_steps=len(test_generator),\n",
    "                             steps_per_epoch=len(train_generator),\n",
    "                             callbacks=callbacks)"
   ]
  },
  {
   "cell_type": "code",
   "execution_count": 12,
   "metadata": {},
   "outputs": [
    {
     "data": {
      "image/png": "[encoded data removed]",
      "text/plain": [
       "<Figure size 720x504 with 1 Axes>"
      ]
     },
     "metadata": {},
     "output_type": "display_data"
    }
   ],
   "source": [
    "plt.figure(figsize=(10,7))\n",
    "plt.plot(history.history['loss'], label='train loss')\n",
    "plt.plot(history.history['val_loss'], label='val loss')\n",
    "plt.plot(history.history['accuracy'], label='train_acc')\n",
    "plt.plot(history.history['val_accuracy'], label='val_acc')\n",
    "plt.title(\"Training Loss and Accuracy on signature Dataset\")\n",
    "plt.legend()\n",
    "plt.show()\n",
    "plt.savefig('lossval_loss')"
   ]
  },
  {
   "cell_type": "code",
   "execution_count": 13,
   "metadata": {
    "collapsed": true
   },
   "outputs": [],
   "source": [
    "from tensorflow.keras.models import load_model\n",
    "\n",
    "model.save('forge_real_signature_model.h5')"
   ]
  },
  {
   "cell_type": "markdown",
   "metadata": {},
   "source": [
    "# Making our prediction with our model"
   ]
  },
  {
   "cell_type": "code",
   "execution_count": 14,
   "metadata": {},
   "outputs": [
    {
     "data": {
      "text/plain": [
       "array([[0.06114511, 0.9388549 ],\n",
       "       [0.0621972 , 0.93780285],\n",
       "       [0.06242954, 0.93757045],\n",
       "       [0.06327129, 0.9367287 ],\n",
       "       [0.06177233, 0.93822765],\n",
       "       [0.06009846, 0.93990153],\n",
       "       [0.06196165, 0.93803835],\n",
       "       [0.06332577, 0.93667424],\n",
       "       [0.06117525, 0.9388248 ],\n",
       "       [0.06276337, 0.9372366 ],\n",
       "       [0.06217993, 0.93782   ],\n",
       "       [0.06192305, 0.938077  ],\n",
       "       [0.061853  , 0.93814695],\n",
       "       [0.0625878 , 0.93741214],\n",
       "       [0.06151061, 0.93848944],\n",
       "       [0.06145671, 0.9385433 ],\n",
       "       [0.06146239, 0.9385376 ],\n",
       "       [0.06230403, 0.9376959 ],\n",
       "       [0.061279  , 0.938721  ],\n",
       "       [0.06223351, 0.9377665 ],\n",
       "       [0.06334312, 0.93665683],\n",
       "       [0.06000682, 0.93999314],\n",
       "       [0.06310263, 0.93689734],\n",
       "       [0.06229892, 0.93770105],\n",
       "       [0.06265026, 0.93734974],\n",
       "       [0.06266186, 0.9373381 ],\n",
       "       [0.06060502, 0.93939495],\n",
       "       [0.06109922, 0.93890077],\n",
       "       [0.0614792 , 0.93852085],\n",
       "       [0.06008078, 0.93991923],\n",
       "       [0.06358233, 0.93641764],\n",
       "       [0.06127978, 0.9387203 ],\n",
       "       [0.06306816, 0.9369319 ],\n",
       "       [0.06299794, 0.937002  ],\n",
       "       [0.06054056, 0.93945944],\n",
       "       [0.06386286, 0.93613714],\n",
       "       [0.06341644, 0.9365836 ],\n",
       "       [0.06277984, 0.93722016],\n",
       "       [0.06257509, 0.93742496],\n",
       "       [0.06239427, 0.9376057 ],\n",
       "       [0.06241623, 0.9375838 ],\n",
       "       [0.06300351, 0.93699646],\n",
       "       [0.06239903, 0.937601  ],\n",
       "       [0.06207078, 0.9379292 ],\n",
       "       [0.06206603, 0.93793404],\n",
       "       [0.06221349, 0.9377865 ],\n",
       "       [0.06187168, 0.9381283 ],\n",
       "       [0.06223924, 0.93776083],\n",
       "       [0.06371702, 0.936283  ],\n",
       "       [0.06146544, 0.93853456],\n",
       "       [0.06021876, 0.9397813 ],\n",
       "       [0.06203475, 0.9379653 ],\n",
       "       [0.06223012, 0.93776995],\n",
       "       [0.06304668, 0.93695337],\n",
       "       [0.06238643, 0.93761355],\n",
       "       [0.06209756, 0.93790245],\n",
       "       [0.06080594, 0.9391941 ],\n",
       "       [0.06050935, 0.9394907 ],\n",
       "       [0.06145389, 0.9385461 ],\n",
       "       [0.06124425, 0.93875575],\n",
       "       [0.06131782, 0.93868214],\n",
       "       [0.06307351, 0.9369265 ],\n",
       "       [0.06286771, 0.93713224],\n",
       "       [0.06259333, 0.9374067 ],\n",
       "       [0.0619298 , 0.9380702 ],\n",
       "       [0.06175895, 0.93824106],\n",
       "       [0.06164347, 0.9383565 ],\n",
       "       [0.06303906, 0.936961  ],\n",
       "       [0.06240107, 0.93759894],\n",
       "       [0.06242483, 0.93757516],\n",
       "       [0.0625    , 0.93750006],\n",
       "       [0.06051138, 0.9394886 ],\n",
       "       [0.062888  , 0.93711203],\n",
       "       [0.06238884, 0.9376111 ],\n",
       "       [0.06272198, 0.937278  ],\n",
       "       [0.05903561, 0.9409644 ],\n",
       "       [0.0604409 , 0.9395591 ],\n",
       "       [0.06129806, 0.93870187],\n",
       "       [0.06107896, 0.93892103],\n",
       "       [0.06142654, 0.9385734 ],\n",
       "       [0.06074228, 0.9392577 ],\n",
       "       [0.06163212, 0.93836784],\n",
       "       [0.06104112, 0.9389589 ],\n",
       "       [0.06242628, 0.93757373],\n",
       "       [0.06262724, 0.93737274],\n",
       "       [0.06326155, 0.93673843],\n",
       "       [0.06147101, 0.938529  ],\n",
       "       [0.0603284 , 0.9396716 ],\n",
       "       [0.06295446, 0.9370456 ],\n",
       "       [0.0620335 , 0.9379665 ],\n",
       "       [0.06191422, 0.9380858 ],\n",
       "       [0.0615696 , 0.9384304 ],\n",
       "       [0.0621044 , 0.93789566],\n",
       "       [0.06302364, 0.9369764 ],\n",
       "       [0.0611033 , 0.93889666],\n",
       "       [0.06152042, 0.93847954],\n",
       "       [0.06136362, 0.93863636],\n",
       "       [0.06117125, 0.93882877],\n",
       "       [0.06100145, 0.9389985 ],\n",
       "       [0.06307623, 0.93692374],\n",
       "       [0.06089951, 0.9391005 ],\n",
       "       [0.06189008, 0.93810993],\n",
       "       [0.06243755, 0.9375625 ],\n",
       "       [0.06232627, 0.9376737 ],\n",
       "       [0.06195578, 0.93804425],\n",
       "       [0.06233061, 0.9376694 ],\n",
       "       [0.06276467, 0.93723536],\n",
       "       [0.06339232, 0.9366077 ],\n",
       "       [0.06167078, 0.9383292 ],\n",
       "       [0.06234576, 0.9376542 ],\n",
       "       [0.06176384, 0.9382361 ],\n",
       "       [0.06178468, 0.9382154 ],\n",
       "       [0.06184232, 0.9381577 ],\n",
       "       [0.06095485, 0.9390452 ],\n",
       "       [0.06103542, 0.93896455],\n",
       "       [0.06150932, 0.9384907 ],\n",
       "       [0.06161673, 0.9383833 ],\n",
       "       [0.06242201, 0.937578  ],\n",
       "       [0.06058427, 0.93941575],\n",
       "       [0.06347142, 0.93652856]], dtype=float32)"
      ]
     },
     "execution_count": 14,
     "metadata": {},
     "output_type": "execute_result"
    }
   ],
   "source": [
    "pred = model.predict(test_generator)\n",
    "pred"
   ]
  },
  {
   "cell_type": "code",
   "execution_count": 15,
   "metadata": {},
   "outputs": [
    {
     "data": {
      "text/plain": [
       "array([1, 1, 1, 1, 1, 1, 1, 1, 1, 1, 1, 1, 1, 1, 1, 1, 1, 1, 1, 1, 1, 1,\n",
       "       1, 1, 1, 1, 1, 1, 1, 1, 1, 1, 1, 1, 1, 1, 1, 1, 1, 1, 1, 1, 1, 1,\n",
       "       1, 1, 1, 1, 1, 1, 1, 1, 1, 1, 1, 1, 1, 1, 1, 1, 1, 1, 1, 1, 1, 1,\n",
       "       1, 1, 1, 1, 1, 1, 1, 1, 1, 1, 1, 1, 1, 1, 1, 1, 1, 1, 1, 1, 1, 1,\n",
       "       1, 1, 1, 1, 1, 1, 1, 1, 1, 1, 1, 1, 1, 1, 1, 1, 1, 1, 1, 1, 1, 1,\n",
       "       1, 1, 1, 1, 1, 1, 1, 1, 1, 1], dtype=int64)"
      ]
     },
     "execution_count": 15,
     "metadata": {},
     "output_type": "execute_result"
    }
   ],
   "source": [
    "import numpy as np\n",
    "\n",
    "pred = np.argmax(pred, axis=1)\n",
    "pred"
   ]
  },
  {
   "cell_type": "code",
   "execution_count": 16,
   "metadata": {
    "collapsed": true
   },
   "outputs": [],
   "source": [
    "model = load_model('forge_real_signature_model.h5')"
   ]
  },
  {
   "cell_type": "code",
   "execution_count": 17,
   "metadata": {
    "collapsed": true
   },
   "outputs": [],
   "source": [
    "from tensorflow.keras.preprocessing import image\n",
    "\n",
    "img = image.load_img('D:/2021-2022 BE PROJECT/singnature verification/Real-Forge-Signature-Detection-main/Dataset_Signature_Final/Dataset/dataset1/test/forge/02101003.png', target_size=(512,512))"
   ]
  },
  {
   "cell_type": "code",
   "execution_count": 18,
   "metadata": {},
   "outputs": [
    {
     "data": {
      "text/plain": [
       "array([[[255., 255., 255.],\n",
       "        [255., 255., 255.],\n",
       "        [255., 255., 255.],\n",
       "        ...,\n",
       "        [255., 255., 255.],\n",
       "        [255., 255., 255.],\n",
       "        [255., 255., 255.]],\n",
       "\n",
       "       [[255., 255., 255.],\n",
       "        [255., 255., 255.],\n",
       "        [255., 255., 255.],\n",
       "        ...,\n",
       "        [255., 255., 255.],\n",
       "        [255., 255., 255.],\n",
       "        [255., 255., 255.]],\n",
       "\n",
       "       [[255., 255., 255.],\n",
       "        [255., 255., 255.],\n",
       "        [255., 255., 255.],\n",
       "        ...,\n",
       "        [255., 255., 255.],\n",
       "        [255., 255., 255.],\n",
       "        [255., 255., 255.]],\n",
       "\n",
       "       ...,\n",
       "\n",
       "       [[255., 255., 255.],\n",
       "        [255., 255., 255.],\n",
       "        [255., 255., 255.],\n",
       "        ...,\n",
       "        [255., 255., 255.],\n",
       "        [255., 255., 255.],\n",
       "        [255., 255., 255.]],\n",
       "\n",
       "       [[255., 255., 255.],\n",
       "        [255., 255., 255.],\n",
       "        [255., 255., 255.],\n",
       "        ...,\n",
       "        [255., 255., 255.],\n",
       "        [255., 255., 255.],\n",
       "        [255., 255., 255.]],\n",
       "\n",
       "       [[255., 255., 255.],\n",
       "        [255., 255., 255.],\n",
       "        [255., 255., 255.],\n",
       "        ...,\n",
       "        [255., 255., 255.],\n",
       "        [255., 255., 255.],\n",
       "        [255., 255., 255.]]], dtype=float32)"
      ]
     },
     "execution_count": 18,
     "metadata": {},
     "output_type": "execute_result"
    }
   ],
   "source": [
    "x = image.img_to_array(img)\n",
    "x"
   ]
  },
  {
   "cell_type": "code",
   "execution_count": 19,
   "metadata": {},
   "outputs": [
    {
     "data": {
      "text/plain": [
       "(512, 512, 3)"
      ]
     },
     "execution_count": 19,
     "metadata": {},
     "output_type": "execute_result"
    }
   ],
   "source": [
    "x.shape"
   ]
  },
  {
   "cell_type": "code",
   "execution_count": 20,
   "metadata": {},
   "outputs": [
    {
     "data": {
      "text/plain": [
       "(1, 512, 512, 3)"
      ]
     },
     "execution_count": 20,
     "metadata": {},
     "output_type": "execute_result"
    }
   ],
   "source": [
    "x = x/255\n",
    "\n",
    "from tensorflow.keras.applications.resnet50 import preprocess_input\n",
    "\n",
    "x=np.expand_dims(x,axis=0)\n",
    "img_data=preprocess_input(x)\n",
    "img_data.shape"
   ]
  },
  {
   "cell_type": "code",
   "execution_count": 21,
   "metadata": {},
   "outputs": [
    {
     "data": {
      "text/plain": [
       "array([[1., 0.]], dtype=float32)"
      ]
     },
     "execution_count": 21,
     "metadata": {},
     "output_type": "execute_result"
    }
   ],
   "source": [
    "model.predict(img_data)"
   ]
  },
  {
   "cell_type": "code",
   "execution_count": 22,
   "metadata": {
    "collapsed": true
   },
   "outputs": [],
   "source": [
    "a=np.argmax(model.predict(img_data), axis=1)"
   ]
  },
  {
   "cell_type": "code",
   "execution_count": 23,
   "metadata": {},
   "outputs": [
    {
     "name": "stdout",
     "output_type": "stream",
     "text": [
      "The signature is fraud\n"
     ]
    }
   ],
   "source": [
    "if(a==1):\n",
    "    print(\"The signature is genuine\")\n",
    "else:\n",
    "    print(\"The signature is fraud\")"
   ]
  },
  {
   "cell_type": "code",
   "execution_count": null,
   "metadata": {
    "collapsed": true
   },
   "outputs": [],
   "source": []
  }
 ],
 "metadata": {
  "kernelspec": {
   "display_name": "Python 3",
   "language": "python",
   "name": "python3"
  },
  "language_info": {
   "codemirror_mode": {
    "name": "ipython",
    "version": 3
   },
   "file_extension": ".py",
   "mimetype": "text/x-python",
   "name": "python",
   "nbconvert_exporter": "python",
   "pygments_lexer": "ipython3",
   "version": "3.6.3"
  }
 },
 "nbformat": 4,
 "nbformat_minor": 2
}
